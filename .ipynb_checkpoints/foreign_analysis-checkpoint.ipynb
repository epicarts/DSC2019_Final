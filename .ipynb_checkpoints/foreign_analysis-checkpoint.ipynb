{
 "cells": [
  {
   "cell_type": "code",
   "execution_count": 2,
   "metadata": {},
   "outputs": [],
   "source": [
    "import pandas as pd\n",
    "from pandas import Series, DataFrame\n",
    "import numpy as np\n",
    "from matplotlib import pyplot as plt\n",
    "import seaborn as sns\n",
    "import os\n",
    "import glob\n",
    "from scipy import stats"
   ]
  },
  {
   "cell_type": "code",
   "execution_count": 416,
   "metadata": {},
   "outputs": [],
   "source": [
    "### 폴더 내의 해외 주식이름.csv 파일을 가져와서, lunage 범위별로 나눔(7일 or 15일)\n",
    "### 각 범위별로 나눈 1년치 값들을 각각 구함(수익률 평균mean or 수익률 합계sum)\n",
    "\n",
    "### 수익률 평균(또는 `합계)\n",
    "\n",
    "# csv 파일로 저장 및 그래프로 출력"
   ]
  },
  {
   "cell_type": "code",
   "execution_count": 417,
   "metadata": {},
   "outputs": [],
   "source": [
    "path = 'foreign_lunage/'\n",
    "file_list=[]\n",
    "for a in glob.glob(os.path.join(path, '*.csv')):\n",
    "    file_list.append(a)"
   ]
  },
  {
   "cell_type": "markdown",
   "metadata": {},
   "source": [
    "### 각 나라별 매년 수익률차이가 0보다 클 확률 binom_test p-value 사전 분석 (newmoon - fullmoon)"
   ]
  },
  {
   "cell_type": "code",
   "execution_count": 239,
   "metadata": {},
   "outputs": [],
   "source": [
    "def days_15_years(df):\n",
    "    '''\n",
    "     years 별로 평균을 구해서 반환함.\n",
    "     (새로운달 횟수 - 보름달 횟수/ 전체 횟수)에 이용\n",
    "     우연인지 아닌지 판단. 50보다 높으면 우연이 아닐 확률이 높음\n",
    "     지속성의 척도로 사용할 예정.\n",
    "     binomial tests\n",
    "     '''\n",
    "    df_fullmoon = df[(7.4 < df.lunage) & (df.lunage<= 22.2)]#월령 7.4 ~ 22.2 (full moon)\n",
    "    df_newmoon = df[(7.4 >= df.lunage) | (df.lunage > 22.2)] #월령 22.2 ~ 7.4 까지 (new moon)\n",
    "\n",
    "    years = (df_fullmoon.date / 10000).round().astype(int)\n",
    "    years.name = 'years'\n",
    "    df_fullmoon = pd.concat([df_fullmoon, years], axis=1).dropna().reset_index(drop=True)\n",
    "\n",
    "    years = (df_newmoon.date / 10000).round().astype(int)\n",
    "    years.name = 'years'\n",
    "    df_newmoon = pd.concat([df_newmoon, years], axis=1).dropna().reset_index(drop=True)\n",
    "\n",
    "    newmoon_mean = df_newmoon['log_change_rate'].groupby(df_newmoon['years']).mean()\n",
    "    fullmoon_mean = df_fullmoon['log_change_rate'].groupby(df_fullmoon['years']).mean()\n",
    "    return fullmoon_mean, newmoon_mean"
   ]
  },
  {
   "cell_type": "code",
   "execution_count": 240,
   "metadata": {},
   "outputs": [],
   "source": [
    "def days_15_analysis(df):\n",
    "    '''\n",
    "    데이터를 넣으면 stats.ttest_ind 를 사용하여 t 값을 구해줌. \n",
    "    pvalue 도 구해줌\n",
    "    newmoon과 fullmoon 별로 describe 도 구해줌\n",
    "    '''\n",
    "    print('---alldata---\\n',df.log_change_rate.describe())\n",
    "    \n",
    "    df_fullmoon = df[(7.4 < df.lunage) & (df.lunage<= 22.2)]#월령 7.4 ~ 22.2 (full moon)\n",
    "    df_newmoon = df[(7.4 >= df.lunage) | (df.lunage > 22.2)] #월령 22.2~ 7.4까지 (new moon)\n",
    "    \n",
    "    print('\\n---newmoon---\\n',df_newmoon.log_change_rate.describe())\n",
    "    print('\\n---fullmoon---\\n',df_fullmoon.log_change_rate.describe())\n",
    "    \n",
    "    print('\\n---t-test---\\n',stats.ttest_ind(df_newmoon.log_change_rate,df_fullmoon.log_change_rate))\n",
    "    return df_fullmoon, df_newmoon"
   ]
  },
  {
   "cell_type": "code",
   "execution_count": 241,
   "metadata": {},
   "outputs": [],
   "source": [
    "def days_7_analysis(df):\n",
    "    '''\n",
    "    데이터를 넣으면 stats.ttest_ind 를 사용하여 t 값을 구해줌. \n",
    "    pvalue 도 구해줌\n",
    "    newmoon과 fullmoon 별로 describe 도 구해줌\n",
    "    '''\n",
    "    print('---alldata---\\n',df.log_change_rate.describe())\n",
    "    \n",
    "    df_fullmoon = df[(11.1 < df.lunage) & (df.lunage<= 18.5)]#월령 7.4 ~ 22.2 (full moon)\n",
    "    df_newmoon = df[(3.7 >= df.lunage) | (df.lunage > 25.9)] #월령 22.2 ~ 7.4 까지 (new moon)\n",
    "    \n",
    "    print('\\n---newmoon---\\n',df_newmoon.log_change_rate.describe())\n",
    "    print('\\n---fullmoon---\\n',df_fullmoon.log_change_rate.describe())\n",
    "    \n",
    "    print('\\n---t-test---\\n',stats.ttest_ind(df_newmoon.log_change_rate,df_fullmoon.log_change_rate))\n",
    "    return df_fullmoon, df_newmoon"
   ]
  },
  {
   "cell_type": "code",
   "execution_count": 242,
   "metadata": {},
   "outputs": [],
   "source": [
    "def days_7_years(df):\n",
    "    '''\n",
    "     years 별로 평균을 구해서 반환함.\n",
    "     (새로운달 횟수 - 보름달 횟수/ 전체 횟수)에 이용\n",
    "     우연인지 아닌지 판단. 50보다 높으면 우연이 아닐 확률이 높음\n",
    "     지속성의 척도로 사용할 예정.\n",
    "     binomial tests\n",
    "     '''\n",
    "    df_fullmoon = df[(11.1 < df.lunage) & (df.lunage<= 18.5)]#월령 7.4 ~ 22.2 (full moon)\n",
    "    df_newmoon = df[(3.7 >= df.lunage) | (df.lunage > 25.9)] #월령 22.2 ~ 7.4 까지 (new moon)\n",
    "\n",
    "    years = (df_fullmoon.date / 10000).round().astype(int)\n",
    "    years.name = 'years'\n",
    "    df_fullmoon = pd.concat([df_fullmoon, years], axis=1).dropna().reset_index(drop=True)\n",
    "\n",
    "    years = (df_newmoon.date / 10000).round().astype(int)\n",
    "    years.name = 'years'\n",
    "    df_newmoon = pd.concat([df_newmoon, years], axis=1).dropna().reset_index(drop=True)\n",
    "\n",
    "    newmoon_mean = df_newmoon['log_change_rate'].groupby(df_newmoon['years']).mean()\n",
    "    fullmoon_mean = df_fullmoon['log_change_rate'].groupby(df_fullmoon['years']).mean()\n",
    "    return fullmoon_mean, newmoon_mean"
   ]
  },
  {
   "cell_type": "code",
   "execution_count": 243,
   "metadata": {},
   "outputs": [
    {
     "name": "stdout",
     "output_type": "stream",
     "text": [
      "---alldata---\n",
      " count    2577.000000\n",
      "mean        0.053892\n",
      "std         1.129362\n",
      "min        -7.523100\n",
      "25%        -0.514800\n",
      "50%         0.060900\n",
      "75%         0.629700\n",
      "max        15.990000\n",
      "Name: log_change_rate, dtype: float64\n",
      "\n",
      "---newmoon---\n",
      " count    644.000000\n",
      "mean       0.105465\n",
      "std        1.034697\n",
      "min       -4.151500\n",
      "25%       -0.477150\n",
      "50%        0.105950\n",
      "75%        0.631175\n",
      "max        4.974600\n",
      "Name: log_change_rate, dtype: float64\n",
      "\n",
      "---fullmoon---\n",
      " count    623.000000\n",
      "mean      -0.008791\n",
      "std        1.106931\n",
      "min       -6.008400\n",
      "25%       -0.557050\n",
      "50%        0.002400\n",
      "75%        0.596150\n",
      "max        4.829600\n",
      "Name: log_change_rate, dtype: float64\n",
      "\n",
      "---t-test---\n",
      " Ttest_indResult(statistic=1.8987128310820904, pvalue=0.05782961584175871)\n"
     ]
    }
   ],
   "source": [
    "df_fullmoon, df_newmoon = days_7_analysis(df)"
   ]
  },
  {
   "cell_type": "code",
   "execution_count": 244,
   "metadata": {},
   "outputs": [],
   "source": [
    "df = pd.read_csv(file_list[0])\n",
    "fullmoon_mean, newmoon_mean = days_7_years(df) # years 별로 평균을 구해서 반환함.(새로운달 횟수 - 보름달 횟수/ 전체 횟수)에 이용\n",
    "moon_mean_data = pd.DataFrame({'newmoon_mean':newmoon_mean,'fullmoon_mean':fullmoon_mean })"
   ]
  },
  {
   "cell_type": "code",
   "execution_count": 245,
   "metadata": {},
   "outputs": [],
   "source": [
    "x = moon_mean_data[newmoon_mean - fullmoon_mean > 0 ].count()[0] # x: 검정통계량. 1이 나온 횟수 = 0이상의 수익률\n",
    "n = moon_mean_data.count()[0] # 총 시도 횟수"
   ]
  },
  {
   "cell_type": "code",
   "execution_count": 246,
   "metadata": {},
   "outputs": [
    {
     "data": {
      "text/plain": [
       "0.22656250000000003"
      ]
     },
     "execution_count": 246,
     "metadata": {},
     "output_type": "execute_result"
    }
   ],
   "source": [
    "stats.binom_test(x, n)"
   ]
  },
  {
   "cell_type": "code",
   "execution_count": 247,
   "metadata": {},
   "outputs": [
    {
     "data": {
      "text/plain": [
       "2.7284641560671857e-10"
      ]
     },
     "execution_count": 247,
     "metadata": {},
     "output_type": "execute_result"
    }
   ],
   "source": [
    "stats.binom_test(600, 1000)"
   ]
  },
  {
   "cell_type": "code",
   "execution_count": 173,
   "metadata": {},
   "outputs": [
    {
     "data": {
      "text/plain": [
       "1.0"
      ]
     },
     "execution_count": 173,
     "metadata": {},
     "output_type": "execute_result"
    }
   ],
   "source": [
    "stats.binom_test(20, 40)"
   ]
  },
  {
   "cell_type": "code",
   "execution_count": 168,
   "metadata": {},
   "outputs": [
    {
     "data": {
      "text/plain": [
       "0.7539062500000002"
      ]
     },
     "execution_count": 168,
     "metadata": {},
     "output_type": "execute_result"
    }
   ],
   "source": [
    "stats.binom_test(6, 10)"
   ]
  },
  {
   "cell_type": "code",
   "execution_count": 292,
   "metadata": {},
   "outputs": [
    {
     "data": {
      "text/plain": [
       "0.22656250000000003"
      ]
     },
     "execution_count": 292,
     "metadata": {},
     "output_type": "execute_result"
    }
   ],
   "source": [
    "stats.binom_test(x, n, p=0.5, alternative='two-sided')"
   ]
  },
  {
   "cell_type": "markdown",
   "metadata": {},
   "source": [
    "# 각 나라별 매월 수익률차이가 0보다 클 확률 binom_test / T-TEST 검증(newmoon - fullmoon)"
   ]
  },
  {
   "cell_type": "code",
   "execution_count": 350,
   "metadata": {},
   "outputs": [],
   "source": [
    "def month(df):\n",
    "    '''\n",
    "    새로운달 - 보름달\n",
    "    p value 검증\n",
    "    '''\n",
    "    df['lunage'] = df.lunage.apply(np.floor)#반올림해서 정수로 맞춤. round(0)\n",
    "    daily_lunage = df.groupby(df.lunage).log_change_rate\n",
    "    daily_lunage.name = df.itemcode.unique()[0]\n",
    "    df_fullmoon = df[(7.4 < df.lunage) & (df.lunage<= .1)]#월령 7.4 ~ 22.2 (full moon)\n",
    "    df_newmoon = df[(3.7 >= df.lunage) | (df.lunage > 25.9)] #월령 22.2 ~ 7.4 까지 (new moon)\n",
    "    month = (df_fullmoon.date / 100).round().astype(int)\n",
    "    month.name = 'month'\n",
    "    df_fullmoon = pd.concat([df_fullmoon, month], axis=1).dropna().reset_index(drop=True)\n",
    "\n",
    "    month = (df_newmoon.date / 100).round().astype(int)\n",
    "    month.name = 'month'\n",
    "    df_newmoon = pd.concat([df_newmoon, month], axis=1).dropna().reset_index(drop=True)\n",
    "    newmoon_mean = df_newmoon['log_change_rate'].groupby(df_newmoon['month']).mean()\n",
    "    fullmoon_mean = df_fullmoon['log_change_rate'].groupby(df_fullmoon['month']).mean()\n",
    "    moon_mean_data = pd.DataFrame({'newmoon_mean':newmoon_mean,'fullmoon_mean':fullmoon_mean })\n",
    "    x = moon_mean_data[newmoon_mean - fullmoon_mean > 0 ].count()[0]\n",
    "    n = moon_mean_data.count()[0]\n",
    "    \n",
    "    print(\"==\", df.itemcode.unique()[0])\n",
    "    print(\"수익을 볼 확률:\", (x/n*100).round())\n",
    "    print(\"p-value\",stats.binom_test(x, n))\n",
    "    \n",
    "    return df.itemcode.unique()[0], (x/n*100).round(), stats.binom_test(x, n)"
   ]
  },
  {
   "cell_type": "code",
   "execution_count": 349,
   "metadata": {},
   "outputs": [
    {
     "name": "stdout",
     "output_type": "stream",
     "text": [
      "== INI@BSE30\n",
      "수익을 볼 확률: 53.0\n",
      "p-value 0.5916839270941628\n",
      "== NAS@IXIC\n",
      "수익을 볼 확률: 56.0\n",
      "p-value 0.2103272547960877\n",
      "== SHS@000001\n",
      "수익을 볼 확률: 52.0\n",
      "p-value 0.7206725161126981\n",
      "== HSI@HSI\n",
      "수익을 볼 확률: 58.0\n",
      "p-value 0.07321432008545253\n",
      "== SHS@000002\n",
      "수익을 볼 확률: 52.0\n",
      "p-value 0.7206725161126981\n",
      "== HAS@HNX\n",
      "수익을 볼 확률: 54.0\n",
      "p-value 0.5715867180030726\n",
      "== SHS@000003\n",
      "수익을 볼 확률: 53.0\n",
      "p-value 0.5916839270941628\n",
      "== TWS@TI01\n",
      "수익을 볼 확률: 56.0\n",
      "p-value 0.2312656821974877\n",
      "== NAS@SOX\n",
      "수익을 볼 확률: 51.0\n",
      "p-value 0.8534084458955637\n",
      "== BRI@BVSP\n",
      "수익을 볼 확률: 50.0\n",
      "p-value 0.9999999999999991\n",
      "== DJI@DJI\n",
      "수익을 볼 확률: 55.0\n",
      "p-value 0.28308523958274706\n",
      "== DJI@DJT\n",
      "수익을 볼 확률: 57.0\n",
      "p-value 0.15212086696675983\n",
      "== MYI@KLSE\n",
      "수익을 볼 확률: 54.0\n",
      "p-value 0.37116069485080966\n",
      "== SPI@SPX\n",
      "수익을 볼 확률: 56.0\n",
      "p-value 0.2103272547960877\n",
      "== XTR@DAX30\n",
      "수익을 볼 확률: 54.0\n",
      "p-value 0.37116069485080966\n",
      "== PAS@CAC40\n",
      "수익을 볼 확률: 55.0\n",
      "p-value 0.28308523958274706\n",
      "== ITI@FTSEMIB\n",
      "수익을 볼 확률: 54.0\n",
      "p-value 0.37116069485080966\n",
      "== NII@NI225\n",
      "수익을 볼 확률: 58.0\n",
      "p-value 0.1070314116060127\n",
      "== HSI@HSCC\n",
      "수익을 볼 확률: 52.0\n",
      "p-value 0.7206725161126981\n",
      "== HSI@HSCE\n",
      "수익을 볼 확률: 56.0\n",
      "p-value 0.2103272547960877\n",
      "== NAS@NDX\n",
      "수익을 볼 확률: 56.0\n",
      "p-value 0.2103272547960877\n",
      "== IDI@JKSE\n",
      "수익을 볼 확률: 52.0\n",
      "p-value 0.7185088365549668\n",
      "== RUI@RTSI\n",
      "수익을 볼 확률: 55.0\n",
      "p-value 0.28308523958274706\n",
      "== LNS@FTSE100\n",
      "수익을 볼 확률: 59.0\n",
      "p-value 0.04866218514586771\n",
      "== STX@SX5E\n",
      "수익을 볼 확률: 54.0\n",
      "p-value 0.37116069485080966\n",
      "== KOSPI\n",
      "수익을 볼 확률: 55.0\n",
      "p-value 0.28308523958274706\n",
      "== KOSDAQ\n",
      "수익을 볼 확률: 54.0\n",
      "p-value 0.47442157344095065\n"
     ]
    }
   ],
   "source": [
    "p_value = []\n",
    "for i in file_list:\n",
    "    df = pd.read_csv(i)\n",
    "    month(df)"
   ]
  },
  {
   "cell_type": "markdown",
   "metadata": {},
   "source": [
    "# 전세계 일별 수익률 평균을 구한 뒤 boxplot(15일, 7일 간격) - 보름달 vs 새로운 달"
   ]
  },
  {
   "cell_type": "code",
   "execution_count": 10,
   "metadata": {},
   "outputs": [],
   "source": [
    "def days_15(file_list):\n",
    "    '''\n",
    "    달을 15일로 나눔\n",
    "    '''\n",
    "    newmoon_mean_dic = {}\n",
    "    fullmoon_mean_dic = {}\n",
    "    \n",
    "    for name in file_list:\n",
    "        df = pd.read_csv(name)\n",
    "        \n",
    "        df_newmoon = df[(df.lunage <= 7.4) | (df.lunage > 22.2)] #월령 22.2 ~ 7.4 까지 (new moon)\n",
    "        df_fullmoon = df[(7.4 < df.lunage) & (df.lunage<= 22.2)]#월령 7.4 ~ 22.2 (full moon)\n",
    "\n",
    "        years = (df_fullmoon.date / 10000).round().astype(int)\n",
    "        years.name = 'years'\n",
    "        df_fullmoon = pd.concat([df_fullmoon, years], axis=1).dropna().reset_index(drop=True)\n",
    "\n",
    "        years = (df_newmoon.date / 10000).round().astype(int)\n",
    "        years.name = 'years'\n",
    "        df_newmoon = pd.concat([df_newmoon, years], axis=1).dropna().reset_index(drop=True)\n",
    "\n",
    "        df_newmoon_change_rate = df_newmoon.set_index(['itemcode','years']).log_change_rate\n",
    "        df_fullmoon_change_rate = df_fullmoon.set_index(['itemcode','years']).log_change_rate\n",
    "\n",
    "        #newmoon_sum_dic[df.itemcode.unique()[0]]=df_newmoon_change_rate.groupby(level=0).sum()[0]\n",
    "        #fullmoon_sum_dic[df.itemcode.unique()[0]]=df_fullmoon_change_rate.groupby(level=0).sum()[0]\n",
    "        \n",
    "        newmoon_mean_dic[df.itemcode.unique()[0]]=df_newmoon_change_rate.groupby(level=0).mean()[0] * 100\n",
    "        fullmoon_mean_dic[df.itemcode.unique()[0]]=df_fullmoon_change_rate.groupby(level=0).mean()[0] * 100\n",
    "    \n",
    "    return fullmoon_mean_dic, newmoon_mean_dic\n",
    "\n",
    "def days_7(file_list):\n",
    "    '''\n",
    "    달을 7일 단위로 나눔.\n",
    "    '''\n",
    "    newmoon_mean_dic = {}\n",
    "    fullmoon_mean_dic = {}\n",
    "    \n",
    "    for name in file_list:\n",
    "        df = pd.read_csv(name)\n",
    "        \n",
    "        df_newmoon = df[(3.7 >= df.lunage) | (df.lunage > 25.9)] #월령 25.9 ~ 3.7 까지 (new moon)\n",
    "        df_fullmoon = df[(11.1 < df.lunage) & (df.lunage<= 18.5)]#월령 7.4 ~ 22.2 (full moon)\n",
    "\n",
    "\n",
    "        years = (df_fullmoon.date / 10000).round().astype(int)\n",
    "        years.name = 'years'\n",
    "        df_fullmoon = pd.concat([df_fullmoon, years], axis=1).dropna().reset_index(drop=True)\n",
    "\n",
    "        years = (df_newmoon.date / 10000).round().astype(int)\n",
    "        years.name = 'years'\n",
    "        df_newmoon = pd.concat([df_newmoon, years], axis=1).dropna().reset_index(drop=True)\n",
    "\n",
    "        df_newmoon_change_rate = df_newmoon.set_index(['itemcode','years']).log_change_rate\n",
    "        df_fullmoon_change_rate = df_fullmoon.set_index(['itemcode','years']).log_change_rate\n",
    "\n",
    "        #newmoon_sum_dic[df.itemcode.unique()[0]]=df_newmoon_change_rate.groupby(level=0).sum()[0]\n",
    "        #fullmoon_sum_dic[df.itemcode.unique()[0]]=df_fullmoon_change_rate.groupby(level=0).sum()[0]\n",
    "        \n",
    "        newmoon_mean_dic[df.itemcode.unique()[0]]=df_newmoon_change_rate.groupby(level=0).mean()[0] * 100\n",
    "        fullmoon_mean_dic[df.itemcode.unique()[0]]=df_fullmoon_change_rate.groupby(level=0).mean()[0] * 100\n",
    "    \n",
    "    return fullmoon_mean_dic, newmoon_mean_dic"
   ]
  },
  {
   "cell_type": "code",
   "execution_count": 11,
   "metadata": {},
   "outputs": [],
   "source": [
    "#파일 가져오기\n",
    "path = 'foreign_lunage/'\n",
    "file_list=[]\n",
    "for a in glob.glob(os.path.join(path, '*.csv')):\n",
    "    file_list.append(a)"
   ]
  },
  {
   "cell_type": "code",
   "execution_count": 12,
   "metadata": {},
   "outputs": [],
   "source": [
    "days15_fullmoon_mean, days15_newmoon_mean = days_15(file_list)\n",
    "days7_fullmoon_mean, days7_newmoon_mean = days_7(file_list)\n",
    "days15 = pd.DataFrame({'fullmoon(15days)':days15_fullmoon_mean, 'newmoon(15days)':days15_newmoon_mean})\n",
    "days7 = pd.DataFrame({'fullmoon(7days)':days7_fullmoon_mean, 'newmoon(7days)':days7_newmoon_mean})"
   ]
  },
  {
   "cell_type": "code",
   "execution_count": 13,
   "metadata": {},
   "outputs": [],
   "source": [
    "days = pd.concat([days15, days7],sort=False, axis=1)"
   ]
  },
  {
   "cell_type": "code",
   "execution_count": 14,
   "metadata": {},
   "outputs": [
    {
     "data": {
      "text/html": [
       "<div>\n",
       "<style scoped>\n",
       "    .dataframe tbody tr th:only-of-type {\n",
       "        vertical-align: middle;\n",
       "    }\n",
       "\n",
       "    .dataframe tbody tr th {\n",
       "        vertical-align: top;\n",
       "    }\n",
       "\n",
       "    .dataframe thead th {\n",
       "        text-align: right;\n",
       "    }\n",
       "</style>\n",
       "<table border=\"1\" class=\"dataframe\">\n",
       "  <thead>\n",
       "    <tr style=\"text-align: right;\">\n",
       "      <th></th>\n",
       "      <th>fullmoon(15days)</th>\n",
       "      <th>newmoon(15days)</th>\n",
       "      <th>fullmoon(7days)</th>\n",
       "      <th>newmoon(7days)</th>\n",
       "    </tr>\n",
       "  </thead>\n",
       "  <tbody>\n",
       "    <tr>\n",
       "      <th>BRI@BVSP</th>\n",
       "      <td>3.724062</td>\n",
       "      <td>3.112671</td>\n",
       "      <td>5.792844</td>\n",
       "      <td>4.999008</td>\n",
       "    </tr>\n",
       "    <tr>\n",
       "      <th>HAS@HNX</th>\n",
       "      <td>4.783499</td>\n",
       "      <td>2.560823</td>\n",
       "      <td>3.088221</td>\n",
       "      <td>9.645825</td>\n",
       "    </tr>\n",
       "    <tr>\n",
       "      <th>HSI@HSI</th>\n",
       "      <td>-0.817560</td>\n",
       "      <td>5.360617</td>\n",
       "      <td>-1.156505</td>\n",
       "      <td>9.705039</td>\n",
       "    </tr>\n",
       "    <tr>\n",
       "      <th>IDI@JKSE</th>\n",
       "      <td>5.521192</td>\n",
       "      <td>6.031011</td>\n",
       "      <td>7.952085</td>\n",
       "      <td>11.302831</td>\n",
       "    </tr>\n",
       "    <tr>\n",
       "      <th>INI@BSE30</th>\n",
       "      <td>1.790586</td>\n",
       "      <td>8.935208</td>\n",
       "      <td>-0.879069</td>\n",
       "      <td>10.546522</td>\n",
       "    </tr>\n",
       "    <tr>\n",
       "      <th>ITI@FTSEMIB</th>\n",
       "      <td>-3.314859</td>\n",
       "      <td>3.203383</td>\n",
       "      <td>-1.889312</td>\n",
       "      <td>6.264547</td>\n",
       "    </tr>\n",
       "    <tr>\n",
       "      <th>KOSPI</th>\n",
       "      <td>1.728992</td>\n",
       "      <td>2.683474</td>\n",
       "      <td>3.420189</td>\n",
       "      <td>7.371038</td>\n",
       "    </tr>\n",
       "    <tr>\n",
       "      <th>LNS@FTSE100</th>\n",
       "      <td>0.915027</td>\n",
       "      <td>2.518147</td>\n",
       "      <td>3.881615</td>\n",
       "      <td>5.311437</td>\n",
       "    </tr>\n",
       "    <tr>\n",
       "      <th>MYI@KLSE</th>\n",
       "      <td>1.005540</td>\n",
       "      <td>3.800818</td>\n",
       "      <td>3.699603</td>\n",
       "      <td>7.632788</td>\n",
       "    </tr>\n",
       "    <tr>\n",
       "      <th>NII@NI225</th>\n",
       "      <td>-1.209693</td>\n",
       "      <td>7.650509</td>\n",
       "      <td>-0.726651</td>\n",
       "      <td>12.417159</td>\n",
       "    </tr>\n",
       "    <tr>\n",
       "      <th>PAS@CAC40</th>\n",
       "      <td>-0.550189</td>\n",
       "      <td>3.844884</td>\n",
       "      <td>0.803080</td>\n",
       "      <td>6.020862</td>\n",
       "    </tr>\n",
       "    <tr>\n",
       "      <th>RUI@RTSI</th>\n",
       "      <td>3.350611</td>\n",
       "      <td>2.152008</td>\n",
       "      <td>14.318571</td>\n",
       "      <td>13.169005</td>\n",
       "    </tr>\n",
       "    <tr>\n",
       "      <th>SHS@000001</th>\n",
       "      <td>-2.707156</td>\n",
       "      <td>6.339433</td>\n",
       "      <td>-2.719598</td>\n",
       "      <td>0.201659</td>\n",
       "    </tr>\n",
       "    <tr>\n",
       "      <th>SPI@SPX</th>\n",
       "      <td>2.783028</td>\n",
       "      <td>5.482053</td>\n",
       "      <td>3.188523</td>\n",
       "      <td>6.473949</td>\n",
       "    </tr>\n",
       "    <tr>\n",
       "      <th>TWS@TI01</th>\n",
       "      <td>1.999438</td>\n",
       "      <td>4.357559</td>\n",
       "      <td>2.837675</td>\n",
       "      <td>6.806132</td>\n",
       "    </tr>\n",
       "    <tr>\n",
       "      <th>XTR@DAX30</th>\n",
       "      <td>2.748247</td>\n",
       "      <td>3.756837</td>\n",
       "      <td>4.750767</td>\n",
       "      <td>3.369238</td>\n",
       "    </tr>\n",
       "  </tbody>\n",
       "</table>\n",
       "</div>"
      ],
      "text/plain": [
       "             fullmoon(15days)  newmoon(15days)  fullmoon(7days)  \\\n",
       "BRI@BVSP             3.724062         3.112671         5.792844   \n",
       "HAS@HNX              4.783499         2.560823         3.088221   \n",
       "HSI@HSI             -0.817560         5.360617        -1.156505   \n",
       "IDI@JKSE             5.521192         6.031011         7.952085   \n",
       "INI@BSE30            1.790586         8.935208        -0.879069   \n",
       "ITI@FTSEMIB         -3.314859         3.203383        -1.889312   \n",
       "KOSPI                1.728992         2.683474         3.420189   \n",
       "LNS@FTSE100          0.915027         2.518147         3.881615   \n",
       "MYI@KLSE             1.005540         3.800818         3.699603   \n",
       "NII@NI225           -1.209693         7.650509        -0.726651   \n",
       "PAS@CAC40           -0.550189         3.844884         0.803080   \n",
       "RUI@RTSI             3.350611         2.152008        14.318571   \n",
       "SHS@000001          -2.707156         6.339433        -2.719598   \n",
       "SPI@SPX              2.783028         5.482053         3.188523   \n",
       "TWS@TI01             1.999438         4.357559         2.837675   \n",
       "XTR@DAX30            2.748247         3.756837         4.750767   \n",
       "\n",
       "             newmoon(7days)  \n",
       "BRI@BVSP           4.999008  \n",
       "HAS@HNX            9.645825  \n",
       "HSI@HSI            9.705039  \n",
       "IDI@JKSE          11.302831  \n",
       "INI@BSE30         10.546522  \n",
       "ITI@FTSEMIB        6.264547  \n",
       "KOSPI              7.371038  \n",
       "LNS@FTSE100        5.311437  \n",
       "MYI@KLSE           7.632788  \n",
       "NII@NI225         12.417159  \n",
       "PAS@CAC40          6.020862  \n",
       "RUI@RTSI          13.169005  \n",
       "SHS@000001         0.201659  \n",
       "SPI@SPX            6.473949  \n",
       "TWS@TI01           6.806132  \n",
       "XTR@DAX30          3.369238  "
      ]
     },
     "execution_count": 14,
     "metadata": {},
     "output_type": "execute_result"
    }
   ],
   "source": [
    "days"
   ]
  },
  {
   "cell_type": "code",
   "execution_count": 15,
   "metadata": {},
   "outputs": [
    {
     "data": {
      "image/png": "[encoded data removed]",
      "text/plain": [
       "<Figure size 576x504 with 1 Axes>"
      ]
     },
     "metadata": {
      "needs_background": "light"
     },
     "output_type": "display_data"
    }
   ],
   "source": [
    "fig, ax = plt.subplots(figsize=(8, 7))\n",
    "ax.boxplot([days['fullmoon(15days)'], days['newmoon(15days)'], days['fullmoon(7days)'],days['newmoon(7days)']], sym=\"b*\")\n",
    "# plt.title('15day and 7day windows daily log change rate country')\n",
    "plt.xticks([1, 2, 3, 4], ['15-day FullMoon', '15-day NewMoon', '7-day FullMoon', '7-day NewMoon'])\n",
    "for i,d in enumerate(days):\n",
    "    y = days[d]\n",
    "    x = np.random.normal(i+1, 0.04, len(y))\n",
    "    plt.plot(x, y, mfc = [\"red\",\"blue\",\"red\",'blue'][i], mec='k', ms=7, marker=\"o\", linestyle=\"None\",alpha = 0.2)\n",
    "plt.show()"
   ]
  },
  {
   "cell_type": "code",
   "execution_count": 17,
   "metadata": {},
   "outputs": [
    {
     "data": {
      "text/plain": [
       "fullmoon(15days)    1.359423\n",
       "newmoon(15days)     4.486840\n",
       "fullmoon(7days)     2.897627\n",
       "newmoon(7days)      7.577315\n",
       "dtype: float64"
      ]
     },
     "execution_count": 17,
     "metadata": {},
     "output_type": "execute_result"
    }
   ],
   "source": [
    "days.mean()"
   ]
  },
  {
   "cell_type": "code",
   "execution_count": 18,
   "metadata": {},
   "outputs": [
    {
     "data": {
      "image/png": "[encoded data removed]",
      "text/plain": [
       "<Figure size 576x504 with 1 Axes>"
      ]
     },
     "metadata": {
      "needs_background": "light"
     },
     "output_type": "display_data"
    }
   ],
   "source": [
    "fig, ax = plt.subplots(figsize=(8, 7))\n",
    "# xlabel = ['가', '나', '다']\n",
    "plt.title(\"Bar Chart\")\n",
    "plt.bar(['15-day FullMoon', '15-day NewMoon', '7-day FullMoon', '7-day NewMoon'], days.mean(), width=0.5,color=['r','b'])\n",
    "#plt.xticks(x, xlabel)\n",
    "# plt.xlabel(\"가나다\")\n",
    "# plt.ylabel(\"cont\")\n",
    "plt.show()"
   ]
  },
  {
   "cell_type": "code",
   "execution_count": 39,
   "metadata": {},
   "outputs": [
    {
     "data": {
      "text/plain": [
       "<matplotlib.axes._subplots.AxesSubplot at 0x7f30a91ca5f8>"
      ]
     },
     "execution_count": 39,
     "metadata": {},
     "output_type": "execute_result"
    },
    {
     "data": {
      "image/png": "[encoded data removed]",
      "text/plain": [
       "<Figure size 1440x288 with 1 Axes>"
      ]
     },
     "metadata": {
      "needs_background": "light"
     },
     "output_type": "display_data"
    }
   ],
   "source": [
    "days.loc[:,['fullmoon(15days)', 'newmoon(15days)']].plot(kind='bar',figsize=(20,4),color=['red','blue'])"
   ]
  },
  {
   "cell_type": "code",
   "execution_count": 40,
   "metadata": {},
   "outputs": [
    {
     "data": {
      "text/plain": [
       "<matplotlib.axes._subplots.AxesSubplot at 0x7f30a8702b38>"
      ]
     },
     "execution_count": 40,
     "metadata": {},
     "output_type": "execute_result"
    },
    {
     "data": {
      "image/png": "[encoded data removed]",
      "text/plain": [
       "<Figure size 1440x288 with 1 Axes>"
      ]
     },
     "metadata": {
      "needs_background": "light"
     },
     "output_type": "display_data"
    }
   ],
   "source": [
    "days.loc[:,['fullmoon(7days)', 'newmoon(7days)']].plot(kind='bar',figsize=(20,4),color=['red','blue'])"
   ]
  },
  {
   "cell_type": "markdown",
   "metadata": {},
   "source": [
    "# 전세계 일별 수익률 평균을 구한 뒤 boxplot(7일 간격) - 상현달 vs 새로운 달 vs 보름달 vs 하현달"
   ]
  },
  {
   "cell_type": "code",
   "execution_count": 68,
   "metadata": {},
   "outputs": [],
   "source": [
    "#파일 가져오기\n",
    "path = 'foreign_lunage/'\n",
    "file_list=[]\n",
    "for a in glob.glob(os.path.join(path, '*.csv')):\n",
    "    file_list.append(a)"
   ]
  },
  {
   "cell_type": "code",
   "execution_count": 69,
   "metadata": {},
   "outputs": [],
   "source": [
    "def days_7(file_list):\n",
    "    newmoon_dic = {}\n",
    "    fullmoon_dic = {}\n",
    "    rightmoon_dic = {}\n",
    "    leftmoon_dic = {}\n",
    "    \n",
    "    \n",
    "    for name in file_list:\n",
    "        df = pd.read_csv(name)\n",
    "        df_rightmoon = df[(3.7 < df.lunage) & (df.lunage<= 11.1)]#월령 3.7 ~ 11.1 (right moon)\n",
    "        df_fullmoon = df[(11.1 < df.lunage) & (df.lunage<= 18.5)]#월령 11.1 ~ 18.5 (full moon)\n",
    "        df_leftmoon = df[(18.5 < df.lunage) & (df.lunage<= 25.9)]#월령 18.5 ~ 25.9 (left moon)\n",
    "        df_newmoon = df[(3.7 >= df.lunage) | (df.lunage > 25.9)] #월령 25.9 ~ 3.7 까지 (new moon)\n",
    "\n",
    "        years = (df_fullmoon.date / 10000).round().astype(int)\n",
    "        years.name = 'years'\n",
    "        df_fullmoon = pd.concat([df_fullmoon, years], axis=1).dropna().reset_index(drop=True)\n",
    "\n",
    "        years = (df_newmoon.date / 10000).round().astype(int)\n",
    "        years.name = 'years'\n",
    "        df_newmoon = pd.concat([df_newmoon, years], axis=1).dropna().reset_index(drop=True)\n",
    "        \n",
    "        years = (df_rightmoon.date / 10000).round().astype(int)\n",
    "        years.name = 'years'\n",
    "        df_rightmoon = pd.concat([df_rightmoon, years], axis=1).dropna().reset_index(drop=True)\n",
    "        \n",
    "        years = (df_leftmoon.date / 10000).round().astype(int)\n",
    "        years.name = 'years'\n",
    "        df_leftmoon = pd.concat([df_leftmoon, years], axis=1).dropna().reset_index(drop=True)\n",
    "        \n",
    "        \n",
    "        df_rightmoon_change_rate = df_rightmoon.set_index(['itemcode','years']).log_change_rate\n",
    "        df_leftmoon_change_rate = df_leftmoon.set_index(['itemcode','years']).log_change_rate\n",
    "        df_newmoon_change_rate = df_newmoon.set_index(['itemcode','years']).log_change_rate\n",
    "        df_fullmoon_change_rate = df_fullmoon.set_index(['itemcode','years']).log_change_rate\n",
    "\n",
    "        \n",
    "#         newmoon_sum_dic[df.itemcode.unique()[0]]=df_newmoon_change_rate.groupby(level=0).sum()[0]\n",
    "#         fullmoon_sum_dic[df.itemcode.unique()[0]]=df_fullmoon_change_rate.groupby(level=0).sum()[0]\n",
    "#         newmoon_sum_dic[df.itemcode.unique()[0]]=df_newmoon_change_rate.groupby(level=0).sum()[0]\n",
    "#         fullmoon_sum_dic[df.itemcode.unique()[0]]=df_fullmoon_change_rate.groupby(level=0).sum()[0]\n",
    "#         leftmoon_sum_dic[df.itemcode.unique()[0]]=df_leftmoon_change_rate.groupby(level=0).sum()[0]\n",
    "#         rightmoon_sum_dic[df.itemcode.unique()[0]]=df_rightmoon_change_rate.groupby(level=0).sum()[0]\n",
    "        \n",
    "    \n",
    "        newmoon_dic[df.itemcode.unique()[0]]=df_newmoon_change_rate.groupby(level=0).mean()[0] * 100\n",
    "        fullmoon_dic[df.itemcode.unique()[0]]=df_fullmoon_change_rate.groupby(level=0).mean()[0] * 100\n",
    "        leftmoon_dic[df.itemcode.unique()[0]]=df_leftmoon_change_rate.groupby(level=0).mean()[0] * 100\n",
    "        rightmoon_dic[df.itemcode.unique()[0]]=df_rightmoon_change_rate.groupby(level=0).mean()[0] * 100\n",
    "\n",
    "        \n",
    "        \n",
    "    \n",
    "    return rightmoon_dic, fullmoon_dic, newmoon_dic, leftmoon_dic"
   ]
  },
  {
   "cell_type": "code",
   "execution_count": 70,
   "metadata": {},
   "outputs": [
    {
     "data": {
      "image/png": "[encoded data removed]",
      "text/plain": [
       "<Figure size 576x504 with 1 Axes>"
      ]
     },
     "metadata": {
      "needs_background": "light"
     },
     "output_type": "display_data"
    }
   ],
   "source": [
    "fig, ax = plt.subplots(figsize=(8, 7))\n",
    "ax.boxplot([days7['rightmoon(7days)'], days7['fullmoon(7days)'],days7['leftmoon(7days)'], days7['newmoon(7days)'] ], sym=\"b*\")\n",
    "plt.xticks([1, 2, 3, 4], ['rightmoon(7days)', 'fullmoon(7days)', 'leftmoon(7days)', 'newmoon(7days)'])\n",
    "for i,d in enumerate(days7):\n",
    "    y = days7[d]\n",
    "    x = np.random.normal(i+1, 0.04, len(y))\n",
    "    plt.plot(x, y, mfc = ['g','r','y','b'][i], mec='k', ms=7, marker=\"o\", linestyle=\"None\",alpha = 0.2)\n",
    "plt.show()"
   ]
  },
  {
   "cell_type": "code",
   "execution_count": 71,
   "metadata": {},
   "outputs": [
    {
     "data": {
      "image/png": "[encoded data removed]",
      "text/plain": [
       "<Figure size 576x504 with 1 Axes>"
      ]
     },
     "metadata": {
      "needs_background": "light"
     },
     "output_type": "display_data"
    }
   ],
   "source": [
    "fig, ax = plt.subplots(figsize=(8, 7))\n",
    "# xlabel = ['가', '나', '다']\n",
    "plt.bar(['rightmoon(7days)', 'fullmoon(7days)', 'leftmoon(7days)', 'newmoon(7days)'], days7.mean(), width=0.5,color=['g','r','y','b'])\n",
    "#plt.xticks(x, xlabel)\n",
    "# plt.xlabel(\"가나다\")\n",
    "# plt.ylabel(\"cont\")\n",
    "plt.show()"
   ]
  },
  {
   "cell_type": "markdown",
   "metadata": {},
   "source": [
    "# 전세계 일별 수익률 평균을 구한 뒤 boxplot(7일 간격) - 상현달 vs 새로운 달"
   ]
  },
  {
   "cell_type": "code",
   "execution_count": 72,
   "metadata": {},
   "outputs": [],
   "source": [
    "def days_7(file_list):\n",
    "    newmoon_dic = {}\n",
    "    fullmoon_dic = {}\n",
    "    rightmoon_dic = {}\n",
    "    leftmoon_dic = {}\n",
    "    \n",
    "    \n",
    "    for name in file_list:\n",
    "        df = pd.read_csv(name)\n",
    "        df_rightmoon = df[(3.7 < df.lunage) & (df.lunage<= 11.1)]#월령 3.7 ~ 11.1 (right moon)\n",
    "        df_fullmoon = df[(11.1 < df.lunage) & (df.lunage<= 18.5)]#월령 11.1 ~ 18.5 (full moon)\n",
    "        df_leftmoon = df[(18.5 < df.lunage) & (df.lunage<= 25.9)]#월령 18.5 ~ 25.9 (left moon)\n",
    "        df_newmoon = df[(3.7 >= df.lunage) | (df.lunage > 25.9)] #월령 25.9 ~ 3.7 까지 (new moon)\n",
    "\n",
    "        years = (df_fullmoon.date / 10000).round().astype(int)\n",
    "        years.name = 'years'\n",
    "        df_fullmoon = pd.concat([df_fullmoon, years], axis=1).dropna().reset_index(drop=True)\n",
    "\n",
    "        years = (df_newmoon.date / 10000).round().astype(int)\n",
    "        years.name = 'years'\n",
    "        df_newmoon = pd.concat([df_newmoon, years], axis=1).dropna().reset_index(drop=True)\n",
    "        \n",
    "        years = (df_rightmoon.date / 10000).round().astype(int)\n",
    "        years.name = 'years'\n",
    "        df_rightmoon = pd.concat([df_rightmoon, years], axis=1).dropna().reset_index(drop=True)\n",
    "        \n",
    "        years = (df_leftmoon.date / 10000).round().astype(int)\n",
    "        years.name = 'years'\n",
    "        df_leftmoon = pd.concat([df_leftmoon, years], axis=1).dropna().reset_index(drop=True)\n",
    "        \n",
    "        \n",
    "        df_rightmoon_change_rate = df_rightmoon.set_index(['itemcode','years']).log_change_rate\n",
    "        df_leftmoon_change_rate = df_leftmoon.set_index(['itemcode','years']).log_change_rate\n",
    "        df_newmoon_change_rate = df_newmoon.set_index(['itemcode','years']).log_change_rate\n",
    "        df_fullmoon_change_rate = df_fullmoon.set_index(['itemcode','years']).log_change_rate\n",
    "\n",
    "        \n",
    "#         newmoon_sum_dic[df.itemcode.unique()[0]]=df_newmoon_change_rate.groupby(level=0).sum()[0]\n",
    "#         fullmoon_sum_dic[df.itemcode.unique()[0]]=df_fullmoon_change_rate.groupby(level=0).sum()[0]\n",
    "#         newmoon_sum_dic[df.itemcode.unique()[0]]=df_newmoon_change_rate.groupby(level=0).sum()[0]\n",
    "#         fullmoon_sum_dic[df.itemcode.unique()[0]]=df_fullmoon_change_rate.groupby(level=0).sum()[0]\n",
    "#         leftmoon_sum_dic[df.itemcode.unique()[0]]=df_leftmoon_change_rate.groupby(level=0).sum()[0]\n",
    "#         rightmoon_sum_dic[df.itemcode.unique()[0]]=df_rightmoon_change_rate.groupby(level=0).sum()[0]\n",
    "        \n",
    "    \n",
    "        newmoon_dic[df.itemcode.unique()[0]]=df_newmoon_change_rate.groupby(level=0).mean()[0] * 100\n",
    "        fullmoon_dic[df.itemcode.unique()[0]]=df_fullmoon_change_rate.groupby(level=0).mean()[0] * 100\n",
    "        leftmoon_dic[df.itemcode.unique()[0]]=df_leftmoon_change_rate.groupby(level=0).mean()[0] * 100\n",
    "        rightmoon_dic[df.itemcode.unique()[0]]=df_rightmoon_change_rate.groupby(level=0).mean()[0] * 100\n",
    "\n",
    "        \n",
    "        \n",
    "    \n",
    "    return rightmoon_dic, fullmoon_dic, newmoon_dic, leftmoon_dic"
   ]
  },
  {
   "cell_type": "code",
   "execution_count": 65,
   "metadata": {},
   "outputs": [
    {
     "data": {
      "text/plain": [
       "<matplotlib.axes._subplots.AxesSubplot at 0x7f30a7c5e198>"
      ]
     },
     "execution_count": 65,
     "metadata": {},
     "output_type": "execute_result"
    },
    {
     "data": {
      "image/png": "[encoded data removed]",
      "text/plain": [
       "<Figure size 1440x288 with 1 Axes>"
      ]
     },
     "metadata": {
      "needs_background": "light"
     },
     "output_type": "display_data"
    }
   ],
   "source": [
    "days7.loc[:,['fullmoon(7days)', 'newmoon(7days)']].plot(kind='bar',figsize=(20,4),color=['r','blue'],ylim=(-8,15))"
   ]
  },
  {
   "cell_type": "code",
   "execution_count": 67,
   "metadata": {},
   "outputs": [
    {
     "data": {
      "text/plain": [
       "<matplotlib.axes._subplots.AxesSubplot at 0x7f30a7bf1860>"
      ]
     },
     "execution_count": 67,
     "metadata": {},
     "output_type": "execute_result"
    },
    {
     "data": {
      "image/png": "[encoded data removed]",
      "text/plain": [
       "<Figure size 1440x288 with 1 Axes>"
      ]
     },
     "metadata": {
      "needs_background": "light"
     },
     "output_type": "display_data"
    }
   ],
   "source": [
    "days7.loc[:,['rightmoon(7days)', 'newmoon(7days)']].plot(kind='bar',figsize=(20,4),color=['g','blue'],ylim=(-8,15))"
   ]
  },
  {
   "cell_type": "code",
   "execution_count": 362,
   "metadata": {},
   "outputs": [
    {
     "data": {
      "text/plain": [
       "fullmoon(15days)    2.947125\n",
       "newmoon(15days)     4.380950\n",
       "rightmoon(7days)   -0.239465\n",
       "fullmoon(7days)     2.947125\n",
       "leftmoon(7days)     2.486358\n",
       "newmoon(7days)      7.045500\n",
       "dtype: float64"
      ]
     },
     "execution_count": 362,
     "metadata": {},
     "output_type": "execute_result"
    }
   ],
   "source": [
    "days.mean()"
   ]
  },
  {
   "cell_type": "code",
   "execution_count": 339,
   "metadata": {},
   "outputs": [
    {
     "data": {
      "image/png": "[encoded data removed]",
      "text/plain": [
       "<Figure size 720x504 with 1 Axes>"
      ]
     },
     "metadata": {
      "needs_background": "light"
     },
     "output_type": "display_data"
    }
   ],
   "source": [
    "fig, ax = plt.subplots(figsize=(10, 7))\n",
    "# xlabel = ['가', '나', '다']\n",
    "plt.title(\"Bar Chart\")\n",
    "plt.bar(['15-day FullMoon', '15-day NewMoon', 'rightmoon(7days)', '7-day FullMoon', '7-day NewMoon', 'leftmoon(7days)'], days.mean(), width=0.5,color=['r','b'])\n",
    "#plt.xticks(x, xlabel)\n",
    "# plt.xlabel(\"가나다\")\n",
    "# plt.ylabel(\"cont\")\n",
    "plt.show()"
   ]
  },
  {
   "cell_type": "code",
   "execution_count": 587,
   "metadata": {},
   "outputs": [
    {
     "data": {
      "text/plain": [
       "Index(['rightmoon(7days)', 'fullmoon(7days)', 'leftmoon(7days)',\n",
       "       'newmoon(7days)'],\n",
       "      dtype='object')"
      ]
     },
     "execution_count": 587,
     "metadata": {},
     "output_type": "execute_result"
    }
   ],
   "source": [
    "days7.T.index"
   ]
  },
  {
   "cell_type": "code",
   "execution_count": 637,
   "metadata": {},
   "outputs": [
    {
     "data": {
      "text/html": [
       "<div>\n",
       "<style scoped>\n",
       "    .dataframe tbody tr th:only-of-type {\n",
       "        vertical-align: middle;\n",
       "    }\n",
       "\n",
       "    .dataframe tbody tr th {\n",
       "        vertical-align: top;\n",
       "    }\n",
       "\n",
       "    .dataframe thead th {\n",
       "        text-align: right;\n",
       "    }\n",
       "</style>\n",
       "<table border=\"1\" class=\"dataframe\">\n",
       "  <thead>\n",
       "    <tr style=\"text-align: right;\">\n",
       "      <th></th>\n",
       "      <th>rightmoon(7days)</th>\n",
       "      <th>fullmoon(7days)</th>\n",
       "      <th>leftmoon(7days)</th>\n",
       "      <th>newmoon(7days)</th>\n",
       "    </tr>\n",
       "  </thead>\n",
       "  <tbody>\n",
       "    <tr>\n",
       "      <th>BRI@BVSP</th>\n",
       "      <td>-3.141564</td>\n",
       "      <td>5.792844</td>\n",
       "      <td>6.131716</td>\n",
       "      <td>4.999008</td>\n",
       "    </tr>\n",
       "    <tr>\n",
       "      <th>HAS@HNX</th>\n",
       "      <td>0.783005</td>\n",
       "      <td>3.088221</td>\n",
       "      <td>1.507312</td>\n",
       "      <td>9.645825</td>\n",
       "    </tr>\n",
       "    <tr>\n",
       "      <th>HSI@HSI</th>\n",
       "      <td>-3.149354</td>\n",
       "      <td>-1.156505</td>\n",
       "      <td>3.648785</td>\n",
       "      <td>9.705039</td>\n",
       "    </tr>\n",
       "    <tr>\n",
       "      <th>IDI@JKSE</th>\n",
       "      <td>4.000440</td>\n",
       "      <td>7.952085</td>\n",
       "      <td>0.395151</td>\n",
       "      <td>11.302831</td>\n",
       "    </tr>\n",
       "    <tr>\n",
       "      <th>INI@BSE30</th>\n",
       "      <td>6.492640</td>\n",
       "      <td>-0.879069</td>\n",
       "      <td>5.198949</td>\n",
       "      <td>10.546522</td>\n",
       "    </tr>\n",
       "    <tr>\n",
       "      <th>ITI@FTSEMIB</th>\n",
       "      <td>-2.554091</td>\n",
       "      <td>-1.889312</td>\n",
       "      <td>-2.085845</td>\n",
       "      <td>6.264547</td>\n",
       "    </tr>\n",
       "    <tr>\n",
       "      <th>KOSPI</th>\n",
       "      <td>-0.206025</td>\n",
       "      <td>3.420189</td>\n",
       "      <td>-1.595053</td>\n",
       "      <td>7.371038</td>\n",
       "    </tr>\n",
       "    <tr>\n",
       "      <th>LNS@FTSE100</th>\n",
       "      <td>-2.312534</td>\n",
       "      <td>3.881615</td>\n",
       "      <td>0.000859</td>\n",
       "      <td>5.311437</td>\n",
       "    </tr>\n",
       "    <tr>\n",
       "      <th>MYI@KLSE</th>\n",
       "      <td>0.526888</td>\n",
       "      <td>3.699603</td>\n",
       "      <td>-1.890437</td>\n",
       "      <td>7.632788</td>\n",
       "    </tr>\n",
       "    <tr>\n",
       "      <th>NII@NI225</th>\n",
       "      <td>-1.823698</td>\n",
       "      <td>-0.726651</td>\n",
       "      <td>3.021716</td>\n",
       "      <td>12.417159</td>\n",
       "    </tr>\n",
       "    <tr>\n",
       "      <th>PAS@CAC40</th>\n",
       "      <td>-0.484782</td>\n",
       "      <td>0.803080</td>\n",
       "      <td>0.232006</td>\n",
       "      <td>6.020862</td>\n",
       "    </tr>\n",
       "    <tr>\n",
       "      <th>RUI@RTSI</th>\n",
       "      <td>-7.522800</td>\n",
       "      <td>14.318571</td>\n",
       "      <td>-9.091639</td>\n",
       "      <td>13.169005</td>\n",
       "    </tr>\n",
       "    <tr>\n",
       "      <th>SHS@000001</th>\n",
       "      <td>0.734065</td>\n",
       "      <td>-2.719598</td>\n",
       "      <td>8.493611</td>\n",
       "      <td>0.201659</td>\n",
       "    </tr>\n",
       "    <tr>\n",
       "      <th>SPI@SPX</th>\n",
       "      <td>-1.376815</td>\n",
       "      <td>3.188523</td>\n",
       "      <td>8.184597</td>\n",
       "      <td>6.473949</td>\n",
       "    </tr>\n",
       "    <tr>\n",
       "      <th>STX@SX5E</th>\n",
       "      <td>-1.186060</td>\n",
       "      <td>0.884561</td>\n",
       "      <td>-0.177188</td>\n",
       "      <td>4.281908</td>\n",
       "    </tr>\n",
       "    <tr>\n",
       "      <th>TWS@TI01</th>\n",
       "      <td>2.333137</td>\n",
       "      <td>2.837675</td>\n",
       "      <td>0.837394</td>\n",
       "      <td>6.806132</td>\n",
       "    </tr>\n",
       "    <tr>\n",
       "      <th>XTR@DAX30</th>\n",
       "      <td>0.736433</td>\n",
       "      <td>4.750767</td>\n",
       "      <td>4.176058</td>\n",
       "      <td>3.369238</td>\n",
       "    </tr>\n",
       "  </tbody>\n",
       "</table>\n",
       "</div>"
      ],
      "text/plain": [
       "             rightmoon(7days)  fullmoon(7days)  leftmoon(7days)  \\\n",
       "BRI@BVSP            -3.141564         5.792844         6.131716   \n",
       "HAS@HNX              0.783005         3.088221         1.507312   \n",
       "HSI@HSI             -3.149354        -1.156505         3.648785   \n",
       "IDI@JKSE             4.000440         7.952085         0.395151   \n",
       "INI@BSE30            6.492640        -0.879069         5.198949   \n",
       "ITI@FTSEMIB         -2.554091        -1.889312        -2.085845   \n",
       "KOSPI               -0.206025         3.420189        -1.595053   \n",
       "LNS@FTSE100         -2.312534         3.881615         0.000859   \n",
       "MYI@KLSE             0.526888         3.699603        -1.890437   \n",
       "NII@NI225           -1.823698        -0.726651         3.021716   \n",
       "PAS@CAC40           -0.484782         0.803080         0.232006   \n",
       "RUI@RTSI            -7.522800        14.318571        -9.091639   \n",
       "SHS@000001           0.734065        -2.719598         8.493611   \n",
       "SPI@SPX             -1.376815         3.188523         8.184597   \n",
       "STX@SX5E            -1.186060         0.884561        -0.177188   \n",
       "TWS@TI01             2.333137         2.837675         0.837394   \n",
       "XTR@DAX30            0.736433         4.750767         4.176058   \n",
       "\n",
       "             newmoon(7days)  \n",
       "BRI@BVSP           4.999008  \n",
       "HAS@HNX            9.645825  \n",
       "HSI@HSI            9.705039  \n",
       "IDI@JKSE          11.302831  \n",
       "INI@BSE30         10.546522  \n",
       "ITI@FTSEMIB        6.264547  \n",
       "KOSPI              7.371038  \n",
       "LNS@FTSE100        5.311437  \n",
       "MYI@KLSE           7.632788  \n",
       "NII@NI225         12.417159  \n",
       "PAS@CAC40          6.020862  \n",
       "RUI@RTSI          13.169005  \n",
       "SHS@000001         0.201659  \n",
       "SPI@SPX            6.473949  \n",
       "STX@SX5E           4.281908  \n",
       "TWS@TI01           6.806132  \n",
       "XTR@DAX30          3.369238  "
      ]
     },
     "execution_count": 637,
     "metadata": {},
     "output_type": "execute_result"
    }
   ],
   "source": [
    "days7"
   ]
  },
  {
   "cell_type": "markdown",
   "metadata": {},
   "source": [
    "# 2d 그래프 그리기"
   ]
  },
  {
   "cell_type": "code",
   "execution_count": null,
   "metadata": {},
   "outputs": [],
   "source": [
    "import numpy as np\n",
    "from mpl_toolkits.mplot3d import Axes3D\n",
    "import matplotlib.pyplot as plt\n",
    "from matplotlib import cm"
   ]
  },
  {
   "cell_type": "code",
   "execution_count": 794,
   "metadata": {},
   "outputs": [],
   "source": [
    "df = days7.drop(['rightmoon(7days)','leftmoon(7days)'], axis=1)"
   ]
  },
  {
   "cell_type": "code",
   "execution_count": 727,
   "metadata": {},
   "outputs": [],
   "source": [
    "dfdf.drop(['BRI@BVSP','HAS@HNX', 'IDI@JKSE', 'LNS@FTSE100','SPI@SPX','XTR@DAX30','RUI@RTSI','TWS@TI01'])"
   ]
  },
  {
   "cell_type": "code",
   "execution_count": 1092,
   "metadata": {},
   "outputs": [
    {
     "data": {
      "text/plain": [
       "<matplotlib.axes._subplots.AxesSubplot at 0x7f2077a66c18>"
      ]
     },
     "execution_count": 1092,
     "metadata": {},
     "output_type": "execute_result"
    },
    {
     "data": {
      "image/png": "[encoded data removed]",
      "text/plain": [
       "<Figure size 1800x720 with 1 Axes>"
      ]
     },
     "metadata": {
      "needs_background": "light"
     },
     "output_type": "display_data"
    }
   ],
   "source": [
    "df.plot(kind='bar',figsize=(25,10),color=['red','blue'])"
   ]
  },
  {
   "cell_type": "code",
   "execution_count": 1095,
   "metadata": {},
   "outputs": [
    {
     "data": {
      "text/plain": [
       "<matplotlib.axes._subplots.AxesSubplot at 0x7f207873b320>"
      ]
     },
     "execution_count": 1095,
     "metadata": {},
     "output_type": "execute_result"
    },
    {
     "data": {
      "image/png": "[encoded data removed]",
      "text/plain": [
       "<Figure size 1800x720 with 1 Axes>"
      ]
     },
     "metadata": {
      "needs_background": "light"
     },
     "output_type": "display_data"
    }
   ],
   "source": [
    "days7.drop(['leftmoon(7days)'], axis=1).plot(kind='bar',figsize=(25,10))"
   ]
  },
  {
   "cell_type": "code",
   "execution_count": 1094,
   "metadata": {},
   "outputs": [
    {
     "data": {
      "text/plain": [
       "<matplotlib.axes._subplots.AxesSubplot at 0x7f2077d424e0>"
      ]
     },
     "execution_count": 1094,
     "metadata": {},
     "output_type": "execute_result"
    },
    {
     "data": {
      "image/png": "[encoded data removed]",
      "text/plain": [
       "<Figure size 1800x720 with 1 Axes>"
      ]
     },
     "metadata": {
      "needs_background": "light"
     },
     "output_type": "display_data"
    }
   ],
   "source": [
    "days7.plot(kind='bar',figsize=(25,10))"
   ]
  },
  {
   "cell_type": "markdown",
   "metadata": {},
   "source": [
    "# 각 나라별 매월 수익률차이가 0보다 클 확률 binom_test / T-test 실제 분석 (newmoon - fullmoon)"
   ]
  },
  {
   "cell_type": "code",
   "execution_count": null,
   "metadata": {},
   "outputs": [],
   "source": [
    "-----\n",
    "\n",
    "### 표\n",
    "1. 관측값\n",
    "2. 15일, 7일 기준\n",
    "3. NEWMOON, FULLMOON 기준\n",
    "4. Biomial p-value\n",
    "5. 매 달 이득을 봐왔던 확률(새로운달 수익률 - 보름달 수익률) months difference\n",
    "6. difference\n",
    "7. 표준편차\n",
    "8. 나라\n",
    "-----\n",
    "\n",
    "### 그림\n",
    "1. 매 달 이득을 봐왔던 확률(새로운달 수익률 - 보름달 수익률) months difference 그림"
   ]
  },
  {
   "cell_type": "code",
   "execution_count": 347,
   "metadata": {},
   "outputs": [],
   "source": [
    "path = 'foreign_lunage/'\n",
    "file_list=[]\n",
    "for a in glob.glob(os.path.join(path, '*.csv')):\n",
    "    file_list.append(a)"
   ]
  },
  {
   "cell_type": "code",
   "execution_count": 350,
   "metadata": {},
   "outputs": [],
   "source": [
    "def month_7days(df):\n",
    "    '''\n",
    "    보름달 새로운달\n",
    "    df 파일을 넣으면 자동적으로 분석해서 dataframe으로 내보내주는 함수.\n",
    "    분석 내용: \n",
    "    '''\n",
    "    df_newmoon = df[(3.7 >= df.lunage) | (df.lunage > 25.9)] #월령 25.9 ~ 3.7 까지 (new moon)\n",
    "    df_fullmoon = df[(11.1 < df.lunage) & (df.lunage<= 18.5)]#월령 7.4 ~ 22.2 (full moon)\n",
    "    \n",
    "    month = (df_fullmoon.date / 100).round().astype(int)#월 추출을 위해 100으로 나눔 (date는 정수)\n",
    "    month.name = 'month'\n",
    "    df_fullmoon = pd.concat([df_fullmoon, month], axis=1).dropna().reset_index(drop=True)\n",
    "\n",
    "    month = (df_newmoon.date / 100).round().astype(int)\n",
    "    month.name = 'month'\n",
    "    df_newmoon = pd.concat([df_newmoon, month], axis=1).dropna().reset_index(drop=True)\n",
    "    newmoon_mean = df_newmoon['log_change_rate'].groupby(df_newmoon['month']).mean()\n",
    "    fullmoon_mean = df_fullmoon['log_change_rate'].groupby(df_fullmoon['month']).mean()\n",
    "    moon_mean_data = pd.DataFrame({'newmoon_mean':newmoon_mean,'fullmoon_mean':fullmoon_mean })\n",
    "    x = moon_mean_data[newmoon_mean - fullmoon_mean > 0 ].count()[0]\n",
    "    n = moon_mean_data.count()[0]\n",
    "    print(\"==\", df.itemcode.unique()[0])\n",
    "    print(\"수익을 볼 확률:\", (x/n*100).round())\n",
    "    print(\"p-value\",stats.binom_test(x, n))\n",
    "    \n",
    "    return df.itemcode.unique()[0], (x/n*100).round(), stats.binom_test(x, n)"
   ]
  },
  {
   "cell_type": "code",
   "execution_count": 349,
   "metadata": {},
   "outputs": [
    {
     "name": "stdout",
     "output_type": "stream",
     "text": [
      "== INI@BSE30\n",
      "수익을 볼 확률: 53.0\n",
      "p-value 0.5916839270941628\n",
      "== NAS@IXIC\n",
      "수익을 볼 확률: 56.0\n",
      "p-value 0.2103272547960877\n",
      "== SHS@000001\n",
      "수익을 볼 확률: 52.0\n",
      "p-value 0.7206725161126981\n",
      "== HSI@HSI\n",
      "수익을 볼 확률: 58.0\n",
      "p-value 0.07321432008545253\n",
      "== SHS@000002\n",
      "수익을 볼 확률: 52.0\n",
      "p-value 0.7206725161126981\n",
      "== HAS@HNX\n",
      "수익을 볼 확률: 54.0\n",
      "p-value 0.5715867180030726\n",
      "== SHS@000003\n",
      "수익을 볼 확률: 53.0\n",
      "p-value 0.5916839270941628\n",
      "== TWS@TI01\n",
      "수익을 볼 확률: 56.0\n",
      "p-value 0.2312656821974877\n",
      "== NAS@SOX\n",
      "수익을 볼 확률: 51.0\n",
      "p-value 0.8534084458955637\n",
      "== BRI@BVSP\n",
      "수익을 볼 확률: 50.0\n",
      "p-value 0.9999999999999991\n",
      "== DJI@DJI\n",
      "수익을 볼 확률: 55.0\n",
      "p-value 0.28308523958274706\n",
      "== DJI@DJT\n",
      "수익을 볼 확률: 57.0\n",
      "p-value 0.15212086696675983\n",
      "== MYI@KLSE\n",
      "수익을 볼 확률: 54.0\n",
      "p-value 0.37116069485080966\n",
      "== SPI@SPX\n",
      "수익을 볼 확률: 56.0\n",
      "p-value 0.2103272547960877\n",
      "== XTR@DAX30\n",
      "수익을 볼 확률: 54.0\n",
      "p-value 0.37116069485080966\n",
      "== PAS@CAC40\n",
      "수익을 볼 확률: 55.0\n",
      "p-value 0.28308523958274706\n",
      "== ITI@FTSEMIB\n",
      "수익을 볼 확률: 54.0\n",
      "p-value 0.37116069485080966\n",
      "== NII@NI225\n",
      "수익을 볼 확률: 58.0\n",
      "p-value 0.1070314116060127\n",
      "== HSI@HSCC\n",
      "수익을 볼 확률: 52.0\n",
      "p-value 0.7206725161126981\n",
      "== HSI@HSCE\n",
      "수익을 볼 확률: 56.0\n",
      "p-value 0.2103272547960877\n",
      "== NAS@NDX\n",
      "수익을 볼 확률: 56.0\n",
      "p-value 0.2103272547960877\n",
      "== IDI@JKSE\n",
      "수익을 볼 확률: 52.0\n",
      "p-value 0.7185088365549668\n",
      "== RUI@RTSI\n",
      "수익을 볼 확률: 55.0\n",
      "p-value 0.28308523958274706\n",
      "== LNS@FTSE100\n",
      "수익을 볼 확률: 59.0\n",
      "p-value 0.04866218514586771\n",
      "== STX@SX5E\n",
      "수익을 볼 확률: 54.0\n",
      "p-value 0.37116069485080966\n",
      "== KOSPI\n",
      "수익을 볼 확률: 55.0\n",
      "p-value 0.28308523958274706\n",
      "== KOSDAQ\n",
      "수익을 볼 확률: 54.0\n",
      "p-value 0.47442157344095065\n"
     ]
    }
   ],
   "source": [
    "for i in file_list:\n",
    "    df = pd.read_csv(i)\n",
    "    month(df)"
   ]
  },
  {
   "cell_type": "code",
   "execution_count": null,
   "metadata": {},
   "outputs": [],
   "source": []
  },
  {
   "cell_type": "code",
   "execution_count": null,
   "metadata": {},
   "outputs": [],
   "source": []
  }
 ],
 "metadata": {
  "kernelspec": {
   "display_name": "Python 3",
   "language": "python",
   "name": "python3"
  },
  "language_info": {
   "codemirror_mode": {
    "name": "ipython",
    "version": 3
   },
   "file_extension": ".py",
   "mimetype": "text/x-python",
   "name": "python",
   "nbconvert_exporter": "python",
   "pygments_lexer": "ipython3",
   "version": "3.6.8"
  }
 },
 "nbformat": 4,
 "nbformat_minor": 2
}
