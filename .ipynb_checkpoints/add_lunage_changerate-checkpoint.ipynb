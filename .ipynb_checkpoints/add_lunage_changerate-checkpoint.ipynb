{
 "cells": [
  {
   "cell_type": "code",
   "execution_count": 1,
   "metadata": {},
   "outputs": [],
   "source": [
    "import pandas as pd\n",
    "from pandas import Series, DataFrame\n",
    "import numpy as np\n",
    "from matplotlib import pyplot as plt\n",
    "import seaborn as sns"
   ]
  },
  {
   "cell_type": "markdown",
   "metadata": {},
   "source": [
    "### 해외 주가(월령 및 변동률(or 로그변동률) 추가 )"
   ]
  },
  {
   "cell_type": "code",
   "execution_count": 2,
   "metadata": {},
   "outputs": [],
   "source": [
    "'''\n",
    "해외 주가를 이름을 넣으면 \n",
    "달의 나이 + 로그 변동률을 추가시켜서 csv 파일로 저장함\n",
    "'''\n",
    "def foreign_lunage_log(foreignname):\n",
    "    foreignindex = pd.read_csv('data/fn_data_foreignCharge.tsv', sep='\\t')#분석할 파일 불러오기\n",
    "    name = foreignindex[foreignindex['itemcode'] == foreignname]#분석할 시장을 선택\n",
    "    name_fillna = name.fillna(value=0.0).reset_index(drop=True)\n",
    "    \n",
    "    #주가 수익률(log) = ln(나중주가/처음주가)\n",
    "    log_change_rate =  (np.log(name_fillna.close_val/name_fillna.close_val.shift(1)) * 100).round(4) \n",
    "    log_change_rate.name = 'log_change_rate'\n",
    "    \n",
    "    stock = pd.concat([name_fillna, log_change_rate], axis=1).dropna().reset_index(drop=True)#change_rate 추가\n",
    "    lunage = pd.read_csv('dt_lunage.csv')#로컬에 저장해 놓은 월령 정보 가져오기\n",
    "    stock_lunage = pd.merge(stock, lunage[['date', 'lunage']])\n",
    "    stock_lunage.to_csv(\"foreign_lunage/\"+foreignname+\"_lunage.csv\", mode='w')#파일 저장"
   ]
  },
  {
   "cell_type": "code",
   "execution_count": 3,
   "metadata": {},
   "outputs": [],
   "source": [
    "'''\n",
    "해외 주가를 이름을 넣으면 \n",
    "달의 나이 + 변동률을 추가시켜서 csv 파일로 저장함\n",
    "'''\n",
    "def foreign_lunage(foreignname):\n",
    "    foreignindex = pd.read_csv('data/fn_data_foreignCharge.tsv', sep='\\t')#분석할 파일 불러오기\n",
    "    name = foreignindex[foreignindex['itemcode'] == foreignname]\n",
    "    name_fillna = name.fillna(value=0.0).reset_index(drop=True)\n",
    "    change_rate =  (name_fillna.close_val.pct_change() *100).round(2)#등락률을 계산한 뒤 반올림\n",
    "    change_rate.name = 'change_rate'\n",
    "    stock = pd.concat([name_fillna, change_rate], axis=1).dropna().reset_index(drop=True)#change_rate 추가\n",
    "    lunage = pd.read_csv('dt_lunage.csv')#로컬에 저장해 놓은 월령 정보 가져오기\n",
    "    stock_lunage = pd.merge(stock, lunage[['date', 'lunage']])\n",
    "    stock_lunage.to_csv(\"foreign_lunage/\"+foreignname+\"_lunage.csv\", mode='w')#파일 저장"
   ]
  },
  {
   "cell_type": "code",
   "execution_count": 4,
   "metadata": {},
   "outputs": [
    {
     "data": {
      "text/plain": [
       "array(['INI@BSE30', 'NAS@IXIC', 'SHS@000001', 'HSI@HSI', 'SHS@000002',\n",
       "       'HAS@HNX', 'SHS@000003', 'TWS@TI01', 'NAS@SOX', 'BRI@BVSP',\n",
       "       'DJI@DJI', 'DJI@DJT', 'MYI@KLSE', 'SPI@SPX', 'XTR@DAX30',\n",
       "       'PAS@CAC40', 'ITI@FTSEMIB', 'NII@NI225', 'HSI@HSCC', 'HSI@HSCE',\n",
       "       'NAS@NDX', 'IDI@JKSE', 'RUI@RTSI', 'LNS@FTSE100', 'STX@SX5E'],\n",
       "      dtype=object)"
      ]
     },
     "execution_count": 4,
     "metadata": {},
     "output_type": "execute_result"
    }
   ],
   "source": [
    "foreignindex = pd.read_csv('data/fn_data_foreignCharge.tsv', sep='\\t')\n",
    "foreignindex.itemcode.unique()"
   ]
  },
  {
   "cell_type": "code",
   "execution_count": 5,
   "metadata": {},
   "outputs": [],
   "source": [
    "for name in foreignindex.itemcode.unique():\n",
    "    foreign_lunage_log(name)"
   ]
  },
  {
   "cell_type": "markdown",
   "metadata": {},
   "source": [
    "### 국내 주가(월령 및 로그변동률 추가 )"
   ]
  },
  {
   "cell_type": "code",
   "execution_count": 13,
   "metadata": {},
   "outputs": [],
   "source": [
    "'''\n",
    "한국 주가를 이름을 넣으면 \n",
    "달의 나이 + 로그 변동률을 추가시켜서 csv 파일로 저장함\n",
    "'''\n",
    "def korea_lunage_log(foreignname):\n",
    "    foreignindex = pd.read_csv('data/fn_data_koreaIndex.tsv', sep='\\t')#분석할 파일 불러오기\n",
    "    name = foreignindex[foreignindex['itemcode'] == foreignname]#분석할 시장을 선택\n",
    "    name_fillna = name.fillna(value=0.0).reset_index(drop=True)\n",
    "    \n",
    "    #주가 수익률(log) = ln(나중주가/처음주가)\n",
    "    log_change_rate =  (np.log(name_fillna.close_val/name_fillna.close_val.shift(1)) * 100).round(4) \n",
    "    log_change_rate.name = 'log_change_rate'\n",
    "    \n",
    "    stock = pd.concat([name_fillna, log_change_rate], axis=1).dropna().reset_index(drop=True)#change_rate 추가\n",
    "    lunage = pd.read_csv('dt_lunage.csv')#로컬에 저장해 놓은 월령 정보 가져오기\n",
    "    stock_lunage = pd.merge(stock, lunage[['date', 'lunage']])\n",
    "    stock_lunage.to_csv(\"korea_lunage/\"+foreignname+\"_lunage.csv\", mode='w')#파일 저장"
   ]
  },
  {
   "cell_type": "code",
   "execution_count": 14,
   "metadata": {},
   "outputs": [
    {
     "data": {
      "text/plain": [
       "array(['1906', 'KOSDAQ', 'KOSPI', 'KPI200'], dtype=object)"
      ]
     },
     "execution_count": 14,
     "metadata": {},
     "output_type": "execute_result"
    }
   ],
   "source": [
    "koreaindex = pd.read_csv('data/fn_data_koreaIndex.tsv', sep='\\t')\n",
    "koreaindex.itemcode.unique()"
   ]
  },
  {
   "cell_type": "code",
   "execution_count": 15,
   "metadata": {},
   "outputs": [],
   "source": [
    "for name in koreaindex.itemcode.unique():\n",
    "    korea_lunage_log(name)"
   ]
  },
  {
   "cell_type": "code",
   "execution_count": null,
   "metadata": {},
   "outputs": [],
   "source": []
  }
 ],
 "metadata": {
  "kernelspec": {
   "display_name": "Python 3",
   "language": "python",
   "name": "python3"
  },
  "language_info": {
   "codemirror_mode": {
    "name": "ipython",
    "version": 3
   },
   "file_extension": ".py",
   "mimetype": "text/x-python",
   "name": "python",
   "nbconvert_exporter": "python",
   "pygments_lexer": "ipython3",
   "version": "3.6.8"
  }
 },
 "nbformat": 4,
 "nbformat_minor": 2
}
